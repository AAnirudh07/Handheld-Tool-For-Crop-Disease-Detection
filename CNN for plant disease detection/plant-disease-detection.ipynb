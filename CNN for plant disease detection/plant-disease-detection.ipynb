{
 "cells": [
  {
   "cell_type": "markdown",
   "metadata": {
    "_uuid": "1020827e241ac87ffdf8e0f8762a6885bdc28fbc"
   },
   "source": [
    "Import neccessary packages"
   ]
  },
  {
   "cell_type": "code",
   "execution_count": 1,
   "metadata": {
    "execution": {
     "iopub.execute_input": "2022-01-27T02:15:40.633639Z",
     "iopub.status.busy": "2022-01-27T02:15:40.633263Z",
     "iopub.status.idle": "2022-01-27T02:15:41.579123Z",
     "shell.execute_reply": "2022-01-27T02:15:41.578352Z",
     "shell.execute_reply.started": "2022-01-27T02:15:40.633579Z"
    }
   },
   "outputs": [
    {
     "name": "stderr",
     "output_type": "stream",
     "text": [
      "Using TensorFlow backend.\n"
     ]
    }
   ],
   "source": [
    "import numpy as np\n",
    "import pickle\n",
    "import cv2\n",
    "from os import listdir\n",
    "from sklearn.preprocessing import LabelBinarizer\n",
    "#from keras.models import Sequential\n",
    "from tensorflow.keras.models import Sequential\n",
    "#from keras.layers.normalization import BatchNormalization\n",
    "from tensorflow.keras.layers import BatchNormalization\n",
    "from keras.layers.convolutional import Conv2D\n",
    "from keras.layers.convolutional import MaxPooling2D\n",
    "from keras.layers.core import Activation, Flatten, Dropout, Dense\n",
    "import tensorflow.keras.backend as K\n",
    "from keras.preprocessing.image import ImageDataGenerator\n",
    "from tensorflow.keras.optimizers import Adam\n",
    "#from keras.optimizers import Adam\n",
    "from keras.preprocessing import image\n",
    "from keras.preprocessing.image import img_to_array\n",
    "from sklearn.preprocessing import MultiLabelBinarizer\n",
    "from sklearn.model_selection import train_test_split\n",
    "import matplotlib.pyplot as plt\n",
    "import tensorflow\n",
    "import keras"
   ]
  },
  {
   "cell_type": "code",
   "execution_count": 2,
   "metadata": {
    "_uuid": "7c3354a78e21a1a62ad0c4689d0ab3238fb760d4",
    "execution": {
     "iopub.execute_input": "2022-01-27T02:15:41.581619Z",
     "iopub.status.busy": "2022-01-27T02:15:41.581168Z",
     "iopub.status.idle": "2022-01-27T02:15:41.586841Z",
     "shell.execute_reply": "2022-01-27T02:15:41.585860Z",
     "shell.execute_reply.started": "2022-01-27T02:15:41.581433Z"
    }
   },
   "outputs": [],
   "source": [
    "EPOCHS = 25\n",
    "INIT_LR = 1e-3\n",
    "BS = 32\n",
    "default_image_size = tuple((256, 256))\n",
    "image_size = 0\n",
    "directory_root = '../input/plantvillage/'\n",
    "width=256\n",
    "height=256\n",
    "depth=3"
   ]
  },
  {
   "cell_type": "markdown",
   "metadata": {
    "_uuid": "2bf7ac0a0b805946f844a48e55d5281403e53f57"
   },
   "source": [
    "Function to convert images to array"
   ]
  },
  {
   "cell_type": "code",
   "execution_count": 3,
   "metadata": {
    "_uuid": "c9c3e60b13ace6c8f3e54336e12f9970fde438a3",
    "execution": {
     "iopub.execute_input": "2022-01-27T02:15:41.590009Z",
     "iopub.status.busy": "2022-01-27T02:15:41.589439Z",
     "iopub.status.idle": "2022-01-27T02:15:41.597510Z",
     "shell.execute_reply": "2022-01-27T02:15:41.596708Z",
     "shell.execute_reply.started": "2022-01-27T02:15:41.589956Z"
    }
   },
   "outputs": [],
   "source": [
    "def convert_image_to_array(image_dir):\n",
    "    try:\n",
    "        image = cv2.imread(image_dir)\n",
    "        if image is not None :\n",
    "            image = cv2.resize(image, default_image_size)   \n",
    "            return img_to_array(image)\n",
    "        else :\n",
    "            return np.array([])\n",
    "    except Exception as e:\n",
    "        print(f\"Error : {e}\")\n",
    "        return None"
   ]
  },
  {
   "cell_type": "markdown",
   "metadata": {
    "_uuid": "24d42b87fad54a9556f78357ce673cc5152468c1"
   },
   "source": [
    "Fetch images from directory"
   ]
  },
  {
   "cell_type": "code",
   "execution_count": 4,
   "metadata": {
    "_uuid": "bb8d4c343314028f52ae3c3a840478a834a16c95",
    "execution": {
     "iopub.execute_input": "2022-01-27T02:15:41.601386Z",
     "iopub.status.busy": "2022-01-27T02:15:41.600931Z",
     "iopub.status.idle": "2022-01-27T02:16:02.765821Z",
     "shell.execute_reply": "2022-01-27T02:16:02.765101Z",
     "shell.execute_reply.started": "2022-01-27T02:15:41.601244Z"
    }
   },
   "outputs": [
    {
     "name": "stdout",
     "output_type": "stream",
     "text": [
      "[INFO] Loading images ...\n",
      "[INFO] Processing Pepper__bell___Bacterial_spot ...\n",
      "[INFO] Processing Potato___healthy ...\n",
      "[INFO] Processing Tomato_Leaf_Mold ...\n",
      "[INFO] Processing Tomato__Tomato_YellowLeaf__Curl_Virus ...\n",
      "[INFO] Processing Tomato_Bacterial_spot ...\n",
      "[INFO] Processing Tomato_Septoria_leaf_spot ...\n",
      "[INFO] Processing Tomato_healthy ...\n",
      "[INFO] Processing Tomato_Spider_mites_Two_spotted_spider_mite ...\n",
      "[INFO] Processing Tomato_Early_blight ...\n",
      "[INFO] Processing Tomato__Target_Spot ...\n",
      "[INFO] Processing Pepper__bell___healthy ...\n",
      "[INFO] Processing Potato___Late_blight ...\n",
      "[INFO] Processing Tomato_Late_blight ...\n",
      "[INFO] Processing Potato___Early_blight ...\n",
      "[INFO] Processing Tomato__Tomato_mosaic_virus ...\n",
      "[INFO] Image loading completed\n"
     ]
    }
   ],
   "source": [
    "image_list, label_list = [], []\n",
    "try:\n",
    "    print(\"[INFO] Loading images ...\")\n",
    "    root_dir = listdir(directory_root)\n",
    "    for directory in root_dir :\n",
    "        # remove .DS_Store from list\n",
    "        if directory == \".DS_Store\" :\n",
    "            root_dir.remove(directory)\n",
    "\n",
    "    for plant_folder in root_dir :\n",
    "        plant_disease_folder_list = listdir(f\"{directory_root}/{plant_folder}\")\n",
    "        \n",
    "        for disease_folder in plant_disease_folder_list :\n",
    "            # remove .DS_Store from list\n",
    "            if disease_folder == \".DS_Store\" :\n",
    "                plant_disease_folder_list.remove(disease_folder)\n",
    "\n",
    "        for plant_disease_folder in plant_disease_folder_list:\n",
    "            print(f\"[INFO] Processing {plant_disease_folder} ...\")\n",
    "            plant_disease_image_list = listdir(f\"{directory_root}/{plant_folder}/{plant_disease_folder}/\")\n",
    "                \n",
    "            for single_plant_disease_image in plant_disease_image_list :\n",
    "                if single_plant_disease_image == \".DS_Store\" :\n",
    "                    plant_disease_image_list.remove(single_plant_disease_image)\n",
    "\n",
    "            for image in plant_disease_image_list[:200]:\n",
    "                image_directory = f\"{directory_root}/{plant_folder}/{plant_disease_folder}/{image}\"\n",
    "                if image_directory.endswith(\".jpg\") == True or image_directory.endswith(\".JPG\") == True:\n",
    "                    image_list.append(convert_image_to_array(image_directory))\n",
    "                    label_list.append(plant_disease_folder)\n",
    "    print(\"[INFO] Image loading completed\")  \n",
    "except Exception as e:\n",
    "    print(f\"Error : {e}\")"
   ]
  },
  {
   "cell_type": "markdown",
   "metadata": {
    "_uuid": "35c4b76d33e0263523e479657580104532f81d6e"
   },
   "source": [
    "Get Size of Processed Image"
   ]
  },
  {
   "cell_type": "code",
   "execution_count": 5,
   "metadata": {
    "_uuid": "6ee1ad9c422f112ec2862699b5c0f68b8d658123",
    "execution": {
     "iopub.execute_input": "2022-01-27T02:16:02.766957Z",
     "iopub.status.busy": "2022-01-27T02:16:02.766725Z",
     "iopub.status.idle": "2022-01-27T02:16:02.773398Z",
     "shell.execute_reply": "2022-01-27T02:16:02.772644Z",
     "shell.execute_reply.started": "2022-01-27T02:16:02.766913Z"
    }
   },
   "outputs": [],
   "source": [
    "image_size = len(image_list)"
   ]
  },
  {
   "cell_type": "markdown",
   "metadata": {
    "_uuid": "905b41b226f3fd82a88e67821eb42a07f24b31f7"
   },
   "source": [
    "Transform Image Labels uisng [Scikit Learn](http://scikit-learn.org/)'s LabelBinarizer"
   ]
  },
  {
   "cell_type": "code",
   "execution_count": 6,
   "metadata": {
    "_uuid": "904ff893fe14f5060dd9e7be2ccf96ec793597e5",
    "execution": {
     "iopub.execute_input": "2022-01-27T02:16:02.774980Z",
     "iopub.status.busy": "2022-01-27T02:16:02.774529Z",
     "iopub.status.idle": "2022-01-27T02:16:02.790734Z",
     "shell.execute_reply": "2022-01-27T02:16:02.790040Z",
     "shell.execute_reply.started": "2022-01-27T02:16:02.774929Z"
    }
   },
   "outputs": [],
   "source": [
    "label_binarizer = LabelBinarizer()\n",
    "image_labels = label_binarizer.fit_transform(label_list)\n",
    "pickle.dump(label_binarizer,open('label_transform.pkl', 'wb'))\n",
    "n_classes = len(label_binarizer.classes_)"
   ]
  },
  {
   "cell_type": "markdown",
   "metadata": {
    "_uuid": "f860c29a1d714f06d25e6a0c5bca94739e5d24cc"
   },
   "source": [
    "Print the classes"
   ]
  },
  {
   "cell_type": "code",
   "execution_count": 7,
   "metadata": {
    "_uuid": "0f876397c40c3c8aa09772a92fd60481fc9ba268",
    "execution": {
     "iopub.execute_input": "2022-01-27T02:16:02.792525Z",
     "iopub.status.busy": "2022-01-27T02:16:02.792039Z",
     "iopub.status.idle": "2022-01-27T02:16:02.800163Z",
     "shell.execute_reply": "2022-01-27T02:16:02.799128Z",
     "shell.execute_reply.started": "2022-01-27T02:16:02.792436Z"
    }
   },
   "outputs": [
    {
     "name": "stdout",
     "output_type": "stream",
     "text": [
      "['Pepper__bell___Bacterial_spot' 'Pepper__bell___healthy'\n",
      " 'Potato___Early_blight' 'Potato___Late_blight' 'Potato___healthy'\n",
      " 'Tomato_Bacterial_spot' 'Tomato_Early_blight' 'Tomato_Late_blight'\n",
      " 'Tomato_Leaf_Mold' 'Tomato_Septoria_leaf_spot'\n",
      " 'Tomato_Spider_mites_Two_spotted_spider_mite' 'Tomato__Target_Spot'\n",
      " 'Tomato__Tomato_YellowLeaf__Curl_Virus' 'Tomato__Tomato_mosaic_virus'\n",
      " 'Tomato_healthy']\n"
     ]
    }
   ],
   "source": [
    "print(label_binarizer.classes_)"
   ]
  },
  {
   "cell_type": "code",
   "execution_count": 8,
   "metadata": {
    "_uuid": "6cd9c977b3d164a5570a0c24fdd8624adb9d56b8",
    "execution": {
     "iopub.execute_input": "2022-01-27T02:16:02.801505Z",
     "iopub.status.busy": "2022-01-27T02:16:02.801005Z",
     "iopub.status.idle": "2022-01-27T02:16:13.085874Z",
     "shell.execute_reply": "2022-01-27T02:16:13.084859Z",
     "shell.execute_reply.started": "2022-01-27T02:16:02.801179Z"
    }
   },
   "outputs": [],
   "source": [
    "np_image_list = np.array(image_list, dtype=np.float16) / 225.0"
   ]
  },
  {
   "cell_type": "code",
   "execution_count": 9,
   "metadata": {
    "_uuid": "9f4829560fdfa218cee18c1cfb2eb9452ef180e5",
    "execution": {
     "iopub.execute_input": "2022-01-27T02:16:13.087268Z",
     "iopub.status.busy": "2022-01-27T02:16:13.086966Z",
     "iopub.status.idle": "2022-01-27T02:16:13.802318Z",
     "shell.execute_reply": "2022-01-27T02:16:13.801518Z",
     "shell.execute_reply.started": "2022-01-27T02:16:13.087182Z"
    }
   },
   "outputs": [
    {
     "name": "stdout",
     "output_type": "stream",
     "text": [
      "[INFO] Spliting data to train, test\n"
     ]
    }
   ],
   "source": [
    "print(\"[INFO] Spliting data to train, test\")\n",
    "x_train, x_test, y_train, y_test = train_test_split(np_image_list, image_labels, test_size=0.2, random_state = 42) "
   ]
  },
  {
   "cell_type": "code",
   "execution_count": 10,
   "metadata": {
    "_uuid": "eec8afa64e676d52c814fc8e096955a60f13b6c5",
    "execution": {
     "iopub.execute_input": "2022-01-27T02:16:13.803532Z",
     "iopub.status.busy": "2022-01-27T02:16:13.803295Z",
     "iopub.status.idle": "2022-01-27T02:16:13.809088Z",
     "shell.execute_reply": "2022-01-27T02:16:13.808072Z",
     "shell.execute_reply.started": "2022-01-27T02:16:13.803489Z"
    }
   },
   "outputs": [],
   "source": [
    "aug = ImageDataGenerator(\n",
    "    rotation_range=25, width_shift_range=0.1,\n",
    "    height_shift_range=0.1, shear_range=0.2, \n",
    "    zoom_range=0.2,horizontal_flip=True, \n",
    "    fill_mode=\"nearest\")"
   ]
  },
  {
   "cell_type": "code",
   "execution_count": 11,
   "metadata": {
    "execution": {
     "iopub.execute_input": "2022-01-27T02:16:13.814349Z",
     "iopub.status.busy": "2022-01-27T02:16:13.813722Z",
     "iopub.status.idle": "2022-01-27T02:16:13.819585Z",
     "shell.execute_reply": "2022-01-27T02:16:13.818690Z",
     "shell.execute_reply.started": "2022-01-27T02:16:13.814290Z"
    }
   },
   "outputs": [],
   "source": [
    "from tensorflow.keras.layers import Conv2D, Flatten, MaxPooling2D, Dropout\n",
    "from keras.layers import BatchNormalization"
   ]
  },
  {
   "cell_type": "code",
   "execution_count": 12,
   "metadata": {
    "_cell_guid": "79c7e3d0-c299-4dcb-8224-4455121ee9b0",
    "_uuid": "d629ff2d2480ee46fbb7e2d37f6b5fab8052498a",
    "execution": {
     "iopub.execute_input": "2022-01-27T02:16:13.822138Z",
     "iopub.status.busy": "2022-01-27T02:16:13.821519Z",
     "iopub.status.idle": "2022-01-27T02:16:14.390567Z",
     "shell.execute_reply": "2022-01-27T02:16:14.389608Z",
     "shell.execute_reply.started": "2022-01-27T02:16:13.822088Z"
    }
   },
   "outputs": [],
   "source": [
    "model = tensorflow.keras.Sequential()\n",
    "inputShape = (height, width, depth)\n",
    "chanDim = -1\n",
    "if K.image_data_format() == \"channels_first\":\n",
    "    inputShape = (depth, height, width)\n",
    "    chanDim = 1\n",
    "model.add(tensorflow.keras.layers.Conv2D(32, (3, 3), padding=\"same\",input_shape=inputShape))\n",
    "model.add(tensorflow.keras.layers.Activation(\"relu\"))\n",
    "model.add(tensorflow.keras.layers.BatchNormalization(axis=chanDim))\n",
    "model.add(tensorflow.keras.layers.MaxPooling2D(pool_size=(3, 3)))\n",
    "model.add(tensorflow.keras.layers.Dropout(0.25))\n",
    "model.add(tensorflow.keras.layers.Conv2D(64, (3, 3), padding=\"same\"))\n",
    "model.add(tensorflow.keras.layers.Activation(\"relu\"))\n",
    "model.add(tensorflow.keras.layers.BatchNormalization(axis=chanDim))\n",
    "model.add(tensorflow.keras.layers.Conv2D(64, (3, 3), padding=\"same\"))\n",
    "model.add(tensorflow.keras.layers.Activation(\"relu\"))\n",
    "model.add(tensorflow.keras.layers.BatchNormalization(axis=chanDim))\n",
    "model.add(tensorflow.keras.layers.MaxPooling2D(pool_size=(2, 2)))\n",
    "model.add(tensorflow.keras.layers.Dropout(0.25))\n",
    "model.add(tensorflow.keras.layers.Conv2D(128, (3, 3), padding=\"same\"))\n",
    "model.add(tensorflow.keras.layers.Activation(\"relu\"))\n",
    "model.add(tensorflow.keras.layers.BatchNormalization(axis=chanDim))\n",
    "model.add(tensorflow.keras.layers.Conv2D(128, (3, 3), padding=\"same\"))\n",
    "model.add(tensorflow.keras.layers.Activation(\"relu\"))\n",
    "model.add(tensorflow.keras.layers.BatchNormalization(axis=chanDim))\n",
    "model.add(tensorflow.keras.layers.MaxPooling2D(pool_size=(2, 2)))\n",
    "model.add(tensorflow.keras.layers.Dropout(0.25))\n",
    "model.add(tensorflow.keras.layers.Flatten())\n",
    "model.add(tensorflow.keras.layers.Dense(1024))\n",
    "model.add(tensorflow.keras.layers.Activation(\"relu\"))\n",
    "model.add(tensorflow.keras.layers.BatchNormalization())\n",
    "model.add(tensorflow.keras.layers.Dropout(0.5))\n",
    "model.add(tensorflow.keras.layers.Dense(n_classes))\n",
    "model.add(tensorflow.keras.layers.Activation(\"softmax\"))"
   ]
  },
  {
   "cell_type": "markdown",
   "metadata": {
    "_uuid": "53b13c03e4cea6dc2453a84e254b806ebeed2d99"
   },
   "source": [
    "Model Summary"
   ]
  },
  {
   "cell_type": "code",
   "execution_count": 13,
   "metadata": {
    "_uuid": "1e1523a834fbf872940171fbdefb3dcce2b5f31b",
    "execution": {
     "iopub.execute_input": "2022-01-27T02:16:14.391758Z",
     "iopub.status.busy": "2022-01-27T02:16:14.391507Z",
     "iopub.status.idle": "2022-01-27T02:16:14.407134Z",
     "shell.execute_reply": "2022-01-27T02:16:14.406398Z",
     "shell.execute_reply.started": "2022-01-27T02:16:14.391704Z"
    }
   },
   "outputs": [
    {
     "name": "stdout",
     "output_type": "stream",
     "text": [
      "_________________________________________________________________\n",
      "Layer (type)                 Output Shape              Param #   \n",
      "=================================================================\n",
      "conv2d (Conv2D)              (None, 256, 256, 32)      896       \n",
      "_________________________________________________________________\n",
      "activation (Activation)      (None, 256, 256, 32)      0         \n",
      "_________________________________________________________________\n",
      "batch_normalization (BatchNo (None, 256, 256, 32)      128       \n",
      "_________________________________________________________________\n",
      "max_pooling2d (MaxPooling2D) (None, 85, 85, 32)        0         \n",
      "_________________________________________________________________\n",
      "dropout (Dropout)            (None, 85, 85, 32)        0         \n",
      "_________________________________________________________________\n",
      "conv2d_1 (Conv2D)            (None, 85, 85, 64)        18496     \n",
      "_________________________________________________________________\n",
      "activation_1 (Activation)    (None, 85, 85, 64)        0         \n",
      "_________________________________________________________________\n",
      "batch_normalization_1 (Batch (None, 85, 85, 64)        256       \n",
      "_________________________________________________________________\n",
      "conv2d_2 (Conv2D)            (None, 85, 85, 64)        36928     \n",
      "_________________________________________________________________\n",
      "activation_2 (Activation)    (None, 85, 85, 64)        0         \n",
      "_________________________________________________________________\n",
      "batch_normalization_2 (Batch (None, 85, 85, 64)        256       \n",
      "_________________________________________________________________\n",
      "max_pooling2d_1 (MaxPooling2 (None, 42, 42, 64)        0         \n",
      "_________________________________________________________________\n",
      "dropout_1 (Dropout)          (None, 42, 42, 64)        0         \n",
      "_________________________________________________________________\n",
      "conv2d_3 (Conv2D)            (None, 42, 42, 128)       73856     \n",
      "_________________________________________________________________\n",
      "activation_3 (Activation)    (None, 42, 42, 128)       0         \n",
      "_________________________________________________________________\n",
      "batch_normalization_3 (Batch (None, 42, 42, 128)       512       \n",
      "_________________________________________________________________\n",
      "conv2d_4 (Conv2D)            (None, 42, 42, 128)       147584    \n",
      "_________________________________________________________________\n",
      "activation_4 (Activation)    (None, 42, 42, 128)       0         \n",
      "_________________________________________________________________\n",
      "batch_normalization_4 (Batch (None, 42, 42, 128)       512       \n",
      "_________________________________________________________________\n",
      "max_pooling2d_2 (MaxPooling2 (None, 21, 21, 128)       0         \n",
      "_________________________________________________________________\n",
      "dropout_2 (Dropout)          (None, 21, 21, 128)       0         \n",
      "_________________________________________________________________\n",
      "flatten (Flatten)            (None, 56448)             0         \n",
      "_________________________________________________________________\n",
      "dense (Dense)                (None, 1024)              57803776  \n",
      "_________________________________________________________________\n",
      "activation_5 (Activation)    (None, 1024)              0         \n",
      "_________________________________________________________________\n",
      "batch_normalization_5 (Batch (None, 1024)              4096      \n",
      "_________________________________________________________________\n",
      "dropout_3 (Dropout)          (None, 1024)              0         \n",
      "_________________________________________________________________\n",
      "dense_1 (Dense)              (None, 15)                15375     \n",
      "_________________________________________________________________\n",
      "activation_6 (Activation)    (None, 15)                0         \n",
      "=================================================================\n",
      "Total params: 58,102,671\n",
      "Trainable params: 58,099,791\n",
      "Non-trainable params: 2,880\n",
      "_________________________________________________________________\n"
     ]
    }
   ],
   "source": [
    "model.summary()"
   ]
  },
  {
   "cell_type": "code",
   "execution_count": 14,
   "metadata": {
    "_uuid": "b21dffee32c325136b4ea23ac511049723f34a24",
    "execution": {
     "iopub.execute_input": "2022-01-27T02:16:14.408290Z",
     "iopub.status.busy": "2022-01-27T02:16:14.408045Z",
     "iopub.status.idle": "2022-01-27T02:16:14.512564Z",
     "shell.execute_reply": "2022-01-27T02:16:14.511636Z",
     "shell.execute_reply.started": "2022-01-27T02:16:14.408245Z"
    }
   },
   "outputs": [
    {
     "name": "stdout",
     "output_type": "stream",
     "text": [
      "[INFO] training network...\n"
     ]
    }
   ],
   "source": [
    "opt = Adam(lr=INIT_LR, decay=INIT_LR / EPOCHS)\n",
    "# distribution\n",
    "model.compile(loss=\"binary_crossentropy\", optimizer=opt,metrics=[\"accuracy\"])\n",
    "# train the network\n",
    "print(\"[INFO] training network...\")"
   ]
  },
  {
   "cell_type": "code",
   "execution_count": 15,
   "metadata": {
    "_uuid": "1a13efc5ded339fc3c0d9e61041e8ca555362db0",
    "execution": {
     "iopub.execute_input": "2022-01-27T02:16:14.514426Z",
     "iopub.status.busy": "2022-01-27T02:16:14.513908Z",
     "iopub.status.idle": "2022-01-27T02:29:26.287342Z",
     "shell.execute_reply": "2022-01-27T02:29:26.286479Z",
     "shell.execute_reply.started": "2022-01-27T02:16:14.514202Z"
    }
   },
   "outputs": [
    {
     "name": "stdout",
     "output_type": "stream",
     "text": [
      "Epoch 1/25\n",
      "73/73 [==============================] - 42s 580ms/step - loss: 0.2149 - acc: 0.9331 - val_loss: 1.1126 - val_acc: 0.8764\n",
      "Epoch 2/25\n",
      "73/73 [==============================] - 32s 436ms/step - loss: 0.1576 - acc: 0.9445 - val_loss: 1.3101 - val_acc: 0.8764\n",
      "Epoch 3/25\n",
      "73/73 [==============================] - 30s 410ms/step - loss: 0.1357 - acc: 0.9522 - val_loss: 1.0828 - val_acc: 0.8764\n",
      "Epoch 4/25\n",
      "73/73 [==============================] - 31s 425ms/step - loss: 0.1274 - acc: 0.9544 - val_loss: 0.9180 - val_acc: 0.8752\n",
      "Epoch 5/25\n",
      "73/73 [==============================] - 31s 429ms/step - loss: 0.1651 - acc: 0.9451 - val_loss: 0.9497 - val_acc: 0.8872\n",
      "Epoch 6/25\n",
      "73/73 [==============================] - 30s 418ms/step - loss: 0.1484 - acc: 0.9487 - val_loss: 0.5160 - val_acc: 0.9038\n",
      "Epoch 7/25\n",
      "73/73 [==============================] - 32s 432ms/step - loss: 0.1079 - acc: 0.9609 - val_loss: 0.3599 - val_acc: 0.9214\n",
      "Epoch 8/25\n",
      "73/73 [==============================] - 31s 429ms/step - loss: 0.0982 - acc: 0.9641 - val_loss: 0.2745 - val_acc: 0.9377\n",
      "Epoch 9/25\n",
      "73/73 [==============================] - 31s 430ms/step - loss: 0.0909 - acc: 0.9665 - val_loss: 0.4374 - val_acc: 0.9192\n",
      "Epoch 10/25\n",
      "73/73 [==============================] - 32s 434ms/step - loss: 0.0738 - acc: 0.9725 - val_loss: 0.2045 - val_acc: 0.9530\n",
      "Epoch 11/25\n",
      "73/73 [==============================] - 31s 429ms/step - loss: 0.0770 - acc: 0.9715 - val_loss: 0.2332 - val_acc: 0.9415\n",
      "Epoch 12/25\n",
      "73/73 [==============================] - 31s 430ms/step - loss: 0.1160 - acc: 0.9596 - val_loss: 1.1929 - val_acc: 0.8871\n",
      "Epoch 13/25\n",
      "73/73 [==============================] - 32s 433ms/step - loss: 0.0862 - acc: 0.9684 - val_loss: 0.2516 - val_acc: 0.9348\n",
      "Epoch 14/25\n",
      "73/73 [==============================] - 32s 436ms/step - loss: 0.0752 - acc: 0.9721 - val_loss: 0.1759 - val_acc: 0.9554\n",
      "Epoch 15/25\n",
      "73/73 [==============================] - 31s 431ms/step - loss: 0.0712 - acc: 0.9729 - val_loss: 0.2095 - val_acc: 0.9479\n",
      "Epoch 16/25\n",
      "73/73 [==============================] - 31s 428ms/step - loss: 0.0733 - acc: 0.9721 - val_loss: 0.9233 - val_acc: 0.8893\n",
      "Epoch 17/25\n",
      "73/73 [==============================] - 31s 426ms/step - loss: 0.0735 - acc: 0.9732 - val_loss: 0.3040 - val_acc: 0.9278\n",
      "Epoch 18/25\n",
      "73/73 [==============================] - 31s 424ms/step - loss: 0.0624 - acc: 0.9767 - val_loss: 0.1800 - val_acc: 0.9558\n",
      "Epoch 19/25\n",
      "73/73 [==============================] - 32s 434ms/step - loss: 0.0637 - acc: 0.9765 - val_loss: 0.5282 - val_acc: 0.9190\n",
      "Epoch 20/25\n",
      "73/73 [==============================] - 32s 432ms/step - loss: 0.0573 - acc: 0.9795 - val_loss: 0.1971 - val_acc: 0.9528\n",
      "Epoch 21/25\n",
      "73/73 [==============================] - 30s 415ms/step - loss: 0.0488 - acc: 0.9813 - val_loss: 0.2556 - val_acc: 0.9428\n",
      "Epoch 22/25\n",
      "73/73 [==============================] - 30s 409ms/step - loss: 0.0528 - acc: 0.9801 - val_loss: 0.1373 - val_acc: 0.9596\n",
      "Epoch 23/25\n",
      "73/73 [==============================] - 30s 410ms/step - loss: 0.0505 - acc: 0.9805 - val_loss: 0.1357 - val_acc: 0.9610\n",
      "Epoch 24/25\n",
      "73/73 [==============================] - 30s 412ms/step - loss: 0.0516 - acc: 0.9805 - val_loss: 0.1598 - val_acc: 0.9575\n",
      "Epoch 25/25\n",
      "73/73 [==============================] - 30s 409ms/step - loss: 0.0461 - acc: 0.9830 - val_loss: 0.1290 - val_acc: 0.9618\n"
     ]
    }
   ],
   "source": [
    "history = model.fit_generator(\n",
    "    aug.flow(x_train, y_train, batch_size=BS),\n",
    "    validation_data=(x_test, y_test),\n",
    "    steps_per_epoch=len(x_train) // BS,\n",
    "    epochs=25, verbose=1\n",
    "    )"
   ]
  },
  {
   "cell_type": "markdown",
   "metadata": {
    "_uuid": "9ca1a4489bd624c69a13cd37c0c2306ac8de55c2"
   },
   "source": [
    "Model Accuracy"
   ]
  },
  {
   "cell_type": "code",
   "execution_count": 16,
   "metadata": {
    "_uuid": "bb44f3d0b7e2862bc7d1a032612ebfd48212c1fe",
    "execution": {
     "iopub.execute_input": "2022-01-27T02:29:26.292690Z",
     "iopub.status.busy": "2022-01-27T02:29:26.290417Z",
     "iopub.status.idle": "2022-01-27T02:29:27.748111Z",
     "shell.execute_reply": "2022-01-27T02:29:27.747250Z",
     "shell.execute_reply.started": "2022-01-27T02:29:26.292641Z"
    }
   },
   "outputs": [
    {
     "name": "stdout",
     "output_type": "stream",
     "text": [
      "[INFO] Calculating model accuracy\n",
      "591/591 [==============================] - 1s 2ms/step\n",
      "Test Accuracy: 96.17597550506721\n"
     ]
    }
   ],
   "source": [
    "print(\"[INFO] Calculating model accuracy\")\n",
    "scores = model.evaluate(x_test, y_test)\n",
    "print(f\"Test Accuracy: {scores[1]*100}\")"
   ]
  },
  {
   "cell_type": "markdown",
   "metadata": {
    "_uuid": "2a1f759db8afe933e62fe4cf8332cb303bb11be8"
   },
   "source": [
    "Save model using Pickle"
   ]
  },
  {
   "cell_type": "code",
   "execution_count": 17,
   "metadata": {
    "execution": {
     "iopub.execute_input": "2022-01-27T02:40:29.645866Z",
     "iopub.status.busy": "2022-01-27T02:40:29.645563Z",
     "iopub.status.idle": "2022-01-27T02:40:30.674151Z",
     "shell.execute_reply": "2022-01-27T02:40:30.673166Z",
     "shell.execute_reply.started": "2022-01-27T02:40:29.645816Z"
    }
   },
   "outputs": [],
   "source": [
    "model.save(\"plant_cnn_new2.h5\") "
   ]
  }
 ],
 "metadata": {
  "kernelspec": {
   "display_name": "Python 3",
   "language": "python",
   "name": "python3"
  },
  "language_info": {
   "codemirror_mode": {
    "name": "ipython",
    "version": 3
   },
   "file_extension": ".py",
   "mimetype": "text/x-python",
   "name": "python",
   "nbconvert_exporter": "python",
   "pygments_lexer": "ipython3",
   "version": "3.6.6"
  }
 },
 "nbformat": 4,
 "nbformat_minor": 4
}
